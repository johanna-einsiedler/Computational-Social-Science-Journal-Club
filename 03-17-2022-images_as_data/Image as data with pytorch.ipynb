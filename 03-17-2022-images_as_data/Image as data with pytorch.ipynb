{
 "cells": [
  {
   "cell_type": "markdown",
   "metadata": {},
   "source": [
    "### Welcome!\n",
    "\n",
    "This is a non-comprehensive introduction to images as data in practice. \n",
    "\n",
    "We will go over everything you need, but remember that for each step there is much more to learn (as with everything in life) \n",
    "\n",
    "- Images as data in python\n",
    "- pytorch - a NN framework\n",
    "- dataloaders and prelabelled datasets\n",
    "- creating your first CNN (maybe?) \n",
    "- predicting and optimizing \n",
    "- fine-tuning a pre-trained network for your task (transfer learning)\n",
    "\n",
    "There will be a solution notebook as well so do not worry "
   ]
  },
  {
   "cell_type": "markdown",
   "metadata": {},
   "source": [
    "Note that a lot of this is taken from: https://pytorch.org/tutorials/beginner/introyt/introyt1_tutorial.html\n",
    "\n",
    "and some from:\n",
    "- https://github.com/liketheflower/pytorch_practise/blob/master/cifar/cifar_resnet18_pretrain.py\n",
    "- https://pytorch.org/tutorials/beginner/finetuning_torchvision_models_tutorial.html\n"
   ]
  },
  {
   "cell_type": "markdown",
   "metadata": {},
   "source": [
    "### Images as data in python\n",
    "\n",
    "What is an image to a computer? The answer is easy, it is a set of matricies with pixel values and that is it. \n",
    "\n",
    "We call mutiple matricies \"stacked\" in each other a tensor, and you can think of it as stacked excelsheets or a cube of tabular data. So where a normal matrix is maybe 64x64 in size, an image will have a third dimension 64x64x3 which we call the \"channel\" \n",
    "\n",
    "For a colored image we have 3 channels - Red, green and blue\n",
    "for a so-called \"grey scale\" images there is only 1 channel \n",
    "\n",
    "Let us look at that i python a little bit"
   ]
  },
  {
   "cell_type": "markdown",
   "metadata": {},
   "source": [
    "There are many way to work with images in python, one of the most basic is to simply use matplot.lib"
   ]
  },
  {
   "cell_type": "code",
<<<<<<< HEAD
   "execution_count": 1,
   "id": "013cd008",
=======
   "execution_count": 55,
>>>>>>> 2038ff5d368c8a6484fb0359a919d882c28b73df
   "metadata": {},
   "outputs": [],
   "source": [
    "import matplotlib.pyplot as plt\n",
    "import matplotlib.image as mpimg\n",
    "import numpy as np"
   ]
  },
  {
   "cell_type": "markdown",
   "metadata": {},
   "source": [
    "Show the image of a famous basketball player, located in the directory called img.jpg"
   ]
  },
  {
   "cell_type": "code",
   "execution_count": null,
   "metadata": {},
   "outputs": [],
   "source": [
    "filename =                      #use correct filename here\n",
    "img = mpimg.imread(filename)\n",
    "imgplot = plt.imshow(img)\n",
    "plt.show()"
   ]
  },
  {
   "cell_type": "markdown",
   "metadata": {},
   "source": [
    "Now show the shape and datatype the image object"
   ]
  },
  {
   "cell_type": "code",
   "execution_count": null,
   "metadata": {},
   "outputs": [],
   "source": [
    "               #shape here"
   ]
  },
  {
   "cell_type": "code",
   "execution_count": null,
   "metadata": {},
   "outputs": [],
   "source": [
    "               #type here"
   ]
  },
  {
   "cell_type": "markdown",
   "metadata": {},
   "source": [
    "- Show only the face of the person - use standard numpy slicing to subset the image, but remember the 3 dimensions\n",
    "- try to choose one of the color dimensions as well, and see what happens"
   ]
  },
  {
   "cell_type": "code",
   "execution_count": 5,
   "metadata": {},
   "outputs": [],
   "source": [
    "face =  #here"
   ]
  },
  {
   "cell_type": "code",
   "execution_count": null,
   "metadata": {},
   "outputs": [],
   "source": [
    "plt.imshow(face)\n",
    "plt.show()"
   ]
  },
  {
   "cell_type": "code",
   "execution_count": null,
   "metadata": {},
   "outputs": [],
   "source": [
    "nc_img =                    #here\n",
    "plt.imshow(nc_img)\n",
    "plt.show()"
   ]
  },
  {
   "cell_type": "markdown",
   "metadata": {},
   "source": [
    "Easy enough right?"
   ]
  },
  {
   "cell_type": "markdown",
   "metadata": {},
   "source": [
    "### Pytorch - the cool way to do deep learning "
   ]
  },
  {
   "cell_type": "markdown",
   "metadata": {},
   "source": [
    "Working with images in python will most likely lead you to do work with deep learning. To do this we will use the package pytroch. There are many others such Tensorflow and Keras, and pytorch is not the easiest, but it is probably the most widely used. \n",
    "\n",
    "Begin by intalling it to you computer. The installation depends on you computer, and on wheter you have a dedicated CUDA graphics card (I sadly do not on my work pc) \n",
    "\n",
    "go to: https://pytorch.org/get-started/locally/ and chose you settings \n",
    "\n",
    "then run some version of: ```conda install pytorch torchvision torchaudio cpuonly -c pytorch```"
   ]
  },
  {
   "cell_type": "markdown",
   "metadata": {},
   "source": [
    "Then if all goes well go ahead an ```import torch```"
   ]
  },
  {
   "cell_type": "code",
<<<<<<< HEAD
   "execution_count": 3,
   "id": "aaa44ee9",
=======
   "execution_count": 8,
>>>>>>> 2038ff5d368c8a6484fb0359a919d882c28b73df
   "metadata": {},
   "outputs": [],
   "source": [
    "import torch"
   ]
  },
  {
   "cell_type": "markdown",
   "metadata": {},
   "source": [
    "Just try things out we make a tensor full of zeros \n",
    "- use ```torch.zeros()``` and give it 3 channels \n",
    "- then examine its shape and type \n",
    "- then use ```plt.imshow``` to display it as and image - can you guess what color it will be? \n",
    "\n",
    "Try to make a tensor with 3 channels and random input\n",
    "- use ```torch.rand()``` for this \n",
    "- then show the tensor as an image"
   ]
  },
  {
   "cell_type": "code",
<<<<<<< HEAD
   "execution_count": 5,
   "id": "aafdd723",
=======
   "execution_count": null,
>>>>>>> 2038ff5d368c8a6484fb0359a919d882c28b73df
   "metadata": {},
   "outputs": [
    {
     "data": {
      "text/plain": [
       "<matplotlib.image.AxesImage at 0x7fcc408fd8e0>"
      ]
     },
     "execution_count": 5,
     "metadata": {},
     "output_type": "execute_result"
    },
    {
     "data": {
      "image/png": "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",
      "text/plain": [
       "<Figure size 432x288 with 1 Axes>"
      ]
     },
     "metadata": {
      "needs_background": "light"
     },
     "output_type": "display_data"
    }
   ],
   "source": [
    " test = torch.zeros(2,2,3)\n",
    " plt.imshow(test)                          #make 0 tensor with 3 channels\n",
    "                            # check size and type and display"
   ]
  },
  {
   "cell_type": "code",
   "execution_count": null,
   "metadata": {},
   "outputs": [],
   "source": []
  },
  {
   "cell_type": "code",
<<<<<<< HEAD
   "execution_count": 10,
   "id": "cd355c76",
=======
   "execution_count": 11,
>>>>>>> 2038ff5d368c8a6484fb0359a919d882c28b73df
   "metadata": {},
   "outputs": [
    {
     "data": {
      "text/plain": [
       "<matplotlib.image.AxesImage at 0x7fcc21b02100>"
      ]
     },
     "execution_count": 10,
     "metadata": {},
     "output_type": "execute_result"
    },
    {
     "data": {
      "image/png": "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",
      "text/plain": [
       "<Figure size 432x288 with 1 Axes>"
      ]
     },
     "metadata": {
      "needs_background": "light"
     },
     "output_type": "display_data"
    }
   ],
   "source": [
    "torch.manual_seed(7)\n",
    "t_rand = torch.rand(50,50,3)\n",
    "plt.imshow(t_rand)\n",
    "                             #make random tensor with 3 channels\n",
    "                              # check size and type and display"
   ]
  },
  {
   "cell_type": "markdown",
   "metadata": {},
   "source": [
    "### Dataloaders and prelabelled datasets\n"
   ]
  },
  {
   "cell_type": "markdown",
   "metadata": {},
   "source": [
    "Luckily we do not have to make our own images :) \n",
    "\n",
    "Usually we are interested in images as data because we have some dataset of images that we want to work with. However in this case we will use one of the many availbe dataset from pytorch, that are already labelled \n",
    "\n",
    "take a look at what pytorch ships with here: https://pytorch.org/vision/stable/datasets.html\n",
    "\n",
    "\n",
    "for this exercise we will use the CIFAR-10 dataset, that contrain 60.000 images labelled with 10 labels: airplane, automobile, bird, cat, deep, dog, frog, horse, ship and truck\n",
    "\n",
    "check it out here: http://www.cs.toronto.edu/~kriz/cifar.html\n",
    "\n",
    "Not the most useful catagories, but this is just to get a fell for it\n",
    "\n",
    "------------------------------------------\n",
    "\n",
    "now lets us download the dataset - may take a little while"
   ]
  },
  {
   "cell_type": "code",
<<<<<<< HEAD
   "execution_count": 11,
   "id": "a50b745a",
=======
   "execution_count": 12,
>>>>>>> 2038ff5d368c8a6484fb0359a919d882c28b73df
   "metadata": {},
   "outputs": [],
   "source": [
    "import torchvision\n",
    "from torchvision import transforms\n"
   ]
  },
  {
   "cell_type": "markdown",
   "metadata": {},
   "source": [
    "The dataset comes as PIL image objects, so we just need to transform it to torch tensors. We couls also do other transformations, such as normalize etc. - here i have added a normalization to a std of 0.5"
   ]
  },
  {
   "cell_type": "code",
<<<<<<< HEAD
   "execution_count": 12,
   "id": "11e2b3ab",
=======
   "execution_count": 13,
>>>>>>> 2038ff5d368c8a6484fb0359a919d882c28b73df
   "metadata": {},
   "outputs": [],
   "source": [
    "transform = transforms.Compose(\n",
    "    [transforms.ToTensor(),\n",
    "     transforms.Normalize((0.5, 0.5, 0.5), (0.5, 0.5, 0.5))])"
   ]
  },
  {
   "cell_type": "markdown",
   "metadata": {},
   "source": [
    "Run the code with download if you need it "
   ]
  },
  {
   "cell_type": "code",
<<<<<<< HEAD
   "execution_count": 27,
   "id": "407bf392",
=======
   "execution_count": 14,
>>>>>>> 2038ff5d368c8a6484fb0359a919d882c28b73df
   "metadata": {},
   "outputs": [],
   "source": [
    "#trainset = torchvision.datasets.CIFAR10(root='./data', train=True,\n",
    "#                                        download=True)\n",
    "trainset = torchvision.datasets.CIFAR10(root='./data', train=True,transform=transform)\n"
   ]
  },
  {
   "cell_type": "markdown",
   "metadata": {},
   "source": [
    "Try to show some of the images \n",
    "note: they are 32x32x3 meaning that they will look very granular when shown here'\n",
    "\n",
    "you can use the ```trainset.data``` method to access the images in the dataset\n",
    "take a look at the labels as well in ```trainset.targets``` and subset ```trainset.classes``` to translate the number to a label "
   ]
  },
  {
   "cell_type": "code",
<<<<<<< HEAD
   "execution_count": 28,
   "id": "38750a9a",
=======
   "execution_count": null,
>>>>>>> 2038ff5d368c8a6484fb0359a919d882c28b73df
   "metadata": {},
   "outputs": [
    {
     "data": {
      "text/plain": [
       "<matplotlib.image.AxesImage at 0x7fcc21f91640>"
      ]
     },
     "execution_count": 28,
     "metadata": {},
     "output_type": "execute_result"
    },
    {
     "data": {
      "image/png": "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",
      "text/plain": [
       "<Figure size 432x288 with 1 Axes>"
      ]
     },
     "metadata": {
      "needs_background": "light"
     },
     "output_type": "display_data"
    }
   ],
   "source": [
    "plt.imshow(trainset.data[0])                           #display an image in the trainset"
   ]
  },
  {
   "cell_type": "code",
<<<<<<< HEAD
   "execution_count": 29,
   "id": "0f079e20",
=======
   "execution_count": null,
>>>>>>> 2038ff5d368c8a6484fb0359a919d882c28b73df
   "metadata": {},
   "outputs": [
    {
     "data": {
      "text/plain": [
       "'frog'"
      ]
     },
     "execution_count": 29,
     "metadata": {},
     "output_type": "execute_result"
    }
   ],
   "source": [
    "trainset.classes[trainset.targets[0]]                   #display the label of the image"
   ]
  },
  {
   "cell_type": "markdown",
   "metadata": {},
   "source": [
    "You have now loaded all the data into memory on your machine witch can be a big problem when we have large datasets. We will therefore use a so-called dataloader, that wraps the data and lets us load it is a batch at the time. "
   ]
  },
  {
   "cell_type": "markdown",
   "metadata": {},
   "source": [
    "Here we set the batch size to 4 and the amount of worker to 0 - which just means use that it should skip parralel-processing, we also tell it to shuffle the order of the images everytime we go through the entire dataset. However the trainloader will remember whitch label goes with whitc image"
   ]
  },
  {
   "cell_type": "code",
<<<<<<< HEAD
   "execution_count": 20,
   "id": "0ff6355a",
=======
   "execution_count": null,
>>>>>>> 2038ff5d368c8a6484fb0359a919d882c28b73df
   "metadata": {},
   "outputs": [],
   "source": [
    "trainloader = torch.utils.data.DataLoader(trainset, batch_size=4,\n",
    "                                          shuffle=True, num_workers=0)"
   ]
  },
  {
   "cell_type": "markdown",
   "metadata": {},
   "source": [
    "We then remove the training data from memory, thoug we keep a list of the classes"
   ]
  },
  {
   "cell_type": "code",
<<<<<<< HEAD
   "execution_count": 30,
   "id": "a7e5386d",
=======
   "execution_count": 18,
>>>>>>> 2038ff5d368c8a6484fb0359a919d882c28b73df
   "metadata": {},
   "outputs": [],
   "source": [
    "del trainset"
   ]
  },
  {
   "cell_type": "code",
<<<<<<< HEAD
   "execution_count": 31,
   "id": "8dc6d4e8",
=======
   "execution_count": 19,
>>>>>>> 2038ff5d368c8a6484fb0359a919d882c28b73df
   "metadata": {},
   "outputs": [],
   "source": [
    "classes = ('plane', 'car', 'bird', 'cat',\n",
    "           'deer', 'dog', 'frog', 'horse', 'ship', 'truck')"
   ]
  },
  {
   "cell_type": "markdown",
   "metadata": {},
   "source": [
    "We can now itterate over the trainloader object, and load in a batch of images, equal to the bathc size "
   ]
  },
  {
   "cell_type": "code",
<<<<<<< HEAD
   "execution_count": 32,
   "id": "b174ee2a",
=======
   "execution_count": 48,
>>>>>>> 2038ff5d368c8a6484fb0359a919d882c28b73df
   "metadata": {},
   "outputs": [],
   "source": [
    "dataiter = iter(trainloader)"
   ]
  },
  {
   "cell_type": "code",
<<<<<<< HEAD
   "execution_count": 33,
   "id": "73d144ac",
=======
   "execution_count": 21,
>>>>>>> 2038ff5d368c8a6484fb0359a919d882c28b73df
   "metadata": {},
   "outputs": [],
   "source": [
    "images, labels = dataiter.next()"
   ]
  },
  {
   "cell_type": "markdown",
   "metadata": {},
   "source": [
    "Take a look at the images object shape - anything new? "
   ]
  },
  {
   "cell_type": "code",
<<<<<<< HEAD
   "execution_count": 38,
   "id": "9376711f",
=======
   "execution_count": null,
>>>>>>> 2038ff5d368c8a6484fb0359a919d882c28b73df
   "metadata": {},
   "outputs": [
    {
     "data": {
      "text/plain": [
       "torch.Size([4, 3, 32, 32])"
      ]
     },
     "execution_count": 38,
     "metadata": {},
     "output_type": "execute_result"
    }
   ],
   "source": [
    "images.shape #shape here"
   ]
  },
  {
   "cell_type": "markdown",
   "metadata": {},
   "source": [
    "THis is the batchsize dimension!"
   ]
  },
  {
   "cell_type": "markdown",
   "metadata": {},
   "source": [
    "Using a utils from torch vision to show all the image next to one another "
   ]
  },
  {
   "cell_type": "code",
<<<<<<< HEAD
   "execution_count": 39,
   "id": "de4d6286",
=======
   "execution_count": 23,
>>>>>>> 2038ff5d368c8a6484fb0359a919d882c28b73df
   "metadata": {},
   "outputs": [],
   "source": [
    "#make image grid\n",
    "grid = torchvision.utils.make_grid(images) \n",
    "\n",
    "#PIL images are BGR formattet and matplotlib wants RGB so we reverse the R and B dimensions using nump\n",
    "img = np.transpose(grid, (1, 2, 0))\n",
    "img = img / 2 + 0.5 #unnormalize the data"
   ]
  },
  {
   "cell_type": "code",
<<<<<<< HEAD
   "execution_count": 40,
   "id": "ca636e07",
=======
   "execution_count": 24,
>>>>>>> 2038ff5d368c8a6484fb0359a919d882c28b73df
   "metadata": {},
   "outputs": [
    {
     "data": {
      "image/png": "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",
      "text/plain": [
       "<Figure size 432x288 with 1 Axes>"
      ]
     },
     "metadata": {
      "needs_background": "light"
     },
     "output_type": "display_data"
    },
    {
     "name": "stdout",
     "output_type": "stream",
     "text": [
      "tensor([2, 8, 7, 5])\n"
     ]
    }
   ],
   "source": [
    "plt.imshow(img)\n",
    "plt.show()\n",
    "print(labels)"
   ]
  },
  {
   "cell_type": "markdown",
   "metadata": {},
   "source": [
    "Get the actual class labels using the label numbers in the ```labels``` object"
   ]
  },
  {
   "cell_type": "code",
<<<<<<< HEAD
   "execution_count": 41,
   "id": "6cde7029",
=======
   "execution_count": 25,
>>>>>>> 2038ff5d368c8a6484fb0359a919d882c28b73df
   "metadata": {},
   "outputs": [],
   "source": [
    "labs = [classes[i] for i in labels]"
   ]
  },
  {
   "cell_type": "code",
<<<<<<< HEAD
   "execution_count": 42,
   "id": "7f035eac",
=======
   "execution_count": 26,
>>>>>>> 2038ff5d368c8a6484fb0359a919d882c28b73df
   "metadata": {},
   "outputs": [
    {
     "name": "stdout",
     "output_type": "stream",
     "text": [
      "['bird', 'ship', 'horse', 'dog']\n"
     ]
    }
   ],
   "source": [
    "print(labs)"
   ]
  },
  {
   "cell_type": "markdown",
   "metadata": {},
   "source": [
    "### Creating your fist CNN "
   ]
  },
  {
   "cell_type": "markdown",
   "metadata": {},
   "source": [
    "That is all cool - but now we want the really cool things, such as labelling images etc. For that we need a Convolutional nerual network (CNN). Now obviously we do not have the time to go into depth with how it works in detail, but let us try some anyway. \n",
    "\n",
    "The overall idea, is that you take the image as an input, and perform convolution on it (a mathmatical operation), you then sample the \"most important\" features of the images, found by the convulution, and create a new a more condensed images - you do this a couple of times as then you use a normal feed forward neural network to make predictions of the label of the image. \n",
    "\n",
    "It is trained like any other NN, by using back propagation and a loss funciton. \n",
    "\n",
    "Here is a blog that explains nicely what is going on: https://www.analyticsvidhya.com/blog/2021/05/convolutional-neural-networks-cnn/\n",
    "\n",
    "- but you should understand if somewhat if you read the readings for today ;)"
   ]
  },
  {
   "cell_type": "markdown",
   "metadata": {},
   "source": [
    "Defining any NN in pytorch is a 4 step procedure\n",
    "- define the network as a class. In this class we define the structure in the init function\n",
    "- define the forward step - what should happend when it sees a new image\n",
    "- define the loss function and the optimizer (outside of the class) \n",
    "- make a training loop where you loop over the data again and again\n",
    "This part may be a little difficult if you are not familiar with deep learning and object oriented coded but hang in there "
   ]
  },
  {
   "cell_type": "code",
<<<<<<< HEAD
   "execution_count": 43,
   "id": "66611fb0",
=======
   "execution_count": 27,
>>>>>>> 2038ff5d368c8a6484fb0359a919d882c28b73df
   "metadata": {},
   "outputs": [],
   "source": [
    "import torch.nn as nn\n",
    "import torch.nn.functional as F\n",
    "import torch.optim as optim"
   ]
  },
  {
   "cell_type": "code",
<<<<<<< HEAD
   "execution_count": 44,
   "id": "728af4a9",
=======
   "execution_count": 28,
>>>>>>> 2038ff5d368c8a6484fb0359a919d882c28b73df
   "metadata": {},
   "outputs": [],
   "source": [
    "from sklearn.metrics import accuracy_score\n"
   ]
  },
  {
   "cell_type": "markdown",
   "metadata": {},
   "source": [
    "Define network structure and forward step"
   ]
  },
  {
   "cell_type": "code",
<<<<<<< HEAD
   "execution_count": 45,
   "id": "5f1b0aef",
=======
   "execution_count": 29,
>>>>>>> 2038ff5d368c8a6484fb0359a919d882c28b73df
   "metadata": {},
   "outputs": [],
   "source": [
    "class Net(nn.Module): # diffine a class and have it inherit the NN.module features \n",
    "    def __init__(self): #define the init function\n",
    "        super(Net, self).__init__()\n",
    "        self.conv1 = nn.Conv2d(3, 6, 5) #set the first convolutional layer \n",
    "        self.pool = nn.MaxPool2d(2, 2) #define pooling inbetween\n",
    "        self.conv2 = nn.Conv2d(6, 16, 5) #deine second conv layer\n",
    "        self.fc1 = nn.Linear(16 * 5 * 5, 120) #deine the first lineary laver - the numbers are the input dim (16*5*5) abd the output - we basically flatten the images\n",
    "        self.fc2 = nn.Linear(120, 84) # we could add a second linear layer\n",
    "        self.fc3 = nn.Linear(84, 10) #lsat linear layer - the output NEEDS to be the size of our amount of labels\n",
    "\n",
    "    def forward(self, x): #the foward step - this is where the magic happens\n",
    "        #see that the methods applied here, are the ones we defined in the struture!\n",
    "        \n",
    "        #first convulutional layer\n",
    "        x = self.conv1(x) #convulution\n",
    "        x = F.relu(x) #activation funciton\n",
    "        x = self.pool(x)  #pooling\n",
    "        \n",
    "        #second convulutional layer\n",
    "        x = self.conv2(x) #convulition layer 2 on the output of the pooling from layer 1\n",
    "        x = F.relu(x)\n",
    "        x = self.pool(x) \n",
    "        \n",
    "        #frist linear layer        \n",
    "        x = x.view(-1, 16 * 5 * 5) #we need to make the image whithc at this point will have the shape of 16x5x5 into a 1xN shaoe\n",
    "        x = self.fc1(x)\n",
    "        x = F.relu(x)\n",
    "        \n",
    "        #second layer\n",
    "        x = self.fc2(x)\n",
    "        x = F.relu(x)\n",
    "                \n",
    "        #last / output layer (no activation on this)\n",
    "        x = self.fc3(x)\n",
    "        return x\n",
    "\n",
    "\n",
    "net = Net()"
   ]
  },
  {
   "cell_type": "markdown",
   "metadata": {},
   "source": [
    "Define loss funciton and optimizer"
   ]
  },
  {
   "cell_type": "code",
<<<<<<< HEAD
   "execution_count": 46,
   "id": "4fbbcd84",
=======
   "execution_count": 30,
>>>>>>> 2038ff5d368c8a6484fb0359a919d882c28b73df
   "metadata": {},
   "outputs": [],
   "source": [
    "criterion = nn.CrossEntropyLoss()\n",
    "optimizer = optim.Adam(net.parameters(), lr=0.001)"
   ]
  },
  {
   "cell_type": "markdown",
   "metadata": {},
   "source": [
    "Define the training loop"
   ]
  },
  {
   "cell_type": "code",
<<<<<<< HEAD
   "execution_count": 47,
   "id": "d9fa4792",
=======
   "execution_count": 31,
>>>>>>> 2038ff5d368c8a6484fb0359a919d882c28b73df
   "metadata": {},
   "outputs": [
    {
     "name": "stdout",
     "output_type": "stream",
     "text": [
      "[1,  2000] loss: 1.883\n",
      "[1,  2000] Accuracy: 0.296\n",
      "[1,  4000] loss: 1.575\n",
      "[1,  4000] Accuracy: 0.427\n",
      "[1,  6000] loss: 1.510\n",
      "[1,  6000] Accuracy: 0.449\n",
      "[1,  8000] loss: 1.460\n",
      "[1,  8000] Accuracy: 0.466\n",
      "[1, 10000] loss: 1.428\n",
      "[1, 10000] Accuracy: 0.480\n",
      "[1, 12000] loss: 1.396\n",
      "[1, 12000] Accuracy: 0.496\n",
      "[2,  2000] loss: 1.293\n",
      "[2,  2000] Accuracy: 0.539\n",
      "[2,  4000] loss: 1.283\n",
      "[2,  4000] Accuracy: 0.543\n",
      "[2,  6000] loss: 1.272\n",
      "[2,  6000] Accuracy: 0.542\n",
      "[2,  8000] loss: 1.259\n",
      "[2,  8000] Accuracy: 0.547\n",
      "[2, 10000] loss: 1.259\n",
      "[2, 10000] Accuracy: 0.557\n",
      "[2, 12000] loss: 1.263\n",
      "[2, 12000] Accuracy: 0.555\n",
      "Finished Training\n"
     ]
    }
   ],
   "source": [
    "for epoch in range(2):  # loop over the dataset 2 times - very low number!\n",
    "\n",
    "    running_loss = 0.0 #we want to zero the loss before the epoch starts (just for us too look at performance, does not do anything)\n",
    "    running_acc = 0.0\n",
    "    for i, data in enumerate(trainloader, 0): #looping over the batches\n",
    "        # get the inputs\n",
    "        inputs, labels = data #get the images and labels\n",
    "\n",
    "        # zero the parameter gradients\n",
    "        optimizer.zero_grad()\n",
    "        # forward + backward + optimize\n",
    "        outputs = net(inputs) # predict on the images (forward step)\n",
    "        running_acc +=  accuracy_score(labels, torch.max(outputs.data, 1)[1]) #calculate minibatch accuracy\n",
    "        \n",
    "        loss = criterion(outputs, labels) #calculate our lo     \n",
    "        loss.backward() #take tangent of hyperplane eg. backproagation\n",
    "        optimizer.step() #optimize - go down the tangent\n",
    "\n",
    "        # print statistics\n",
    "        running_loss += loss.item() #add the running loss \n",
    "        if i % 2000 == 1999:    # print every 2000 mini-batches\n",
    "            print('[%d, %5d] loss: %.3f' %\n",
    "                  (epoch + 1, i + 1, running_loss / 2000)) #print the mean loss over the lass 2000 bathces\n",
    "            running_loss = 0.0 #set the running loss to 0 again for the next 2000 batches\n",
    "            \n",
    "            print('[%d, %5d] Accuracy: %.3f' %\n",
    "                  (epoch + 1, i + 1, running_acc/ 2000)) #print the mean loss over the lass 2000 bathces\n",
    "            running_loss = 0.0 #set the running loss to 0 again for the next 2000 batches\n",
    "            \n",
    "            running_acc = 0.0\n",
    "print('Finished Training')"
   ]
  },
  {
   "cell_type": "code",
   "execution_count": 59,
   "id": "218180f0",
   "metadata": {},
   "outputs": [
    {
     "data": {
      "text/plain": [
       "Parameter containing:\n",
       "tensor([[[[-7.6740e-02, -4.1284e-02,  1.4510e-01,  3.4935e-02,  1.9365e-01],\n",
       "          [ 1.6407e-02,  1.2957e-01, -4.7680e-02, -1.2887e-01,  1.4837e-01],\n",
       "          [ 1.6348e-01,  8.5544e-02, -2.0523e-01, -1.9135e-01,  1.8354e-01],\n",
       "          [ 1.5738e-01,  2.1708e-01, -2.2720e-01, -3.1949e-01,  1.2413e-01],\n",
       "          [ 3.6574e-02,  6.7675e-02, -1.5170e-01, -7.8725e-02,  1.6689e-01]],\n",
       "\n",
       "         [[ 4.8887e-02, -1.2271e-01, -1.2911e-01, -1.7868e-01,  1.9966e-02],\n",
       "          [ 2.9705e-02,  3.0024e-02, -7.1902e-02, -2.6572e-01,  8.9139e-02],\n",
       "          [ 2.4785e-01,  1.7726e-01, -3.0434e-01, -2.8675e-01, -1.1743e-02],\n",
       "          [ 1.3447e-01,  2.7863e-01, -1.7499e-01, -2.5216e-01,  1.6714e-01],\n",
       "          [ 1.3070e-01,  8.7356e-02, -1.8131e-01, -1.8630e-01,  7.4416e-02]],\n",
       "\n",
       "         [[ 6.0012e-03, -8.8640e-02,  3.1403e-02, -6.7304e-03, -1.1290e-01],\n",
       "          [ 1.8025e-01, -2.3107e-02, -1.2121e-01, -2.6205e-01,  1.7949e-01],\n",
       "          [ 1.2710e-01,  6.6422e-02, -2.0962e-01, -2.6254e-01,  1.3628e-01],\n",
       "          [ 3.2290e-01,  1.6368e-01, -2.8485e-01, -2.2471e-01,  5.7581e-02],\n",
       "          [ 2.6250e-01,  1.1639e-01, -2.5785e-02, -1.5603e-01,  6.8099e-02]]],\n",
       "\n",
       "\n",
       "        [[[ 3.0406e-02,  2.2602e-01,  1.7166e-01,  2.7056e-01,  7.4748e-02],\n",
       "          [ 1.6375e-01,  3.1142e-01,  1.9316e-01,  2.0619e-01,  7.4099e-02],\n",
       "          [-7.7103e-03,  1.1404e-01,  2.4340e-01,  4.2724e-02,  8.9813e-02],\n",
       "          [-1.3630e-01,  1.4309e-01,  2.1177e-01,  1.1709e-01, -2.8660e-02],\n",
       "          [-2.4727e-01, -1.2195e-01, -5.3314e-02, -6.0150e-02, -7.4188e-02]],\n",
       "\n",
       "         [[-2.1312e-01, -1.5621e-01,  3.1928e-02, -6.2308e-02, -9.0928e-02],\n",
       "          [-2.1958e-01, -1.7450e-01, -7.6940e-02, -1.7105e-02, -1.0104e-01],\n",
       "          [-2.0336e-01, -1.0688e-02, -6.0530e-02,  3.0094e-02, -3.5349e-02],\n",
       "          [-4.0941e-02, -1.1947e-01, -3.7102e-02, -5.7057e-03, -4.7910e-02],\n",
       "          [-2.3327e-02, -7.3468e-02,  4.8428e-02, -7.0362e-02, -2.9700e-02]],\n",
       "\n",
       "         [[ 5.3180e-02,  4.1895e-02,  2.3533e-02, -1.9439e-02,  6.2576e-02],\n",
       "          [-1.8300e-01, -1.4992e-01, -4.9914e-03, -1.1408e-01, -7.4318e-03],\n",
       "          [-1.9212e-01, -2.0333e-01, -2.0274e-02,  4.6870e-03, -2.6325e-02],\n",
       "          [-6.1151e-02, -3.6833e-02, -1.9741e-02, -3.2986e-02,  7.0225e-02],\n",
       "          [ 1.1422e-01, -3.1857e-04,  1.7171e-01,  1.9806e-01,  1.4000e-01]]],\n",
       "\n",
       "\n",
       "        [[[ 1.0693e-01, -2.0123e-01, -1.3976e-01, -3.3734e-02, -3.2051e-02],\n",
       "          [ 1.1298e-01, -4.1058e-02, -3.8935e-02, -1.4646e-01,  1.1849e-01],\n",
       "          [ 2.5648e-02,  1.3067e-01,  2.1530e-01,  2.0960e-01,  1.8690e-01],\n",
       "          [-2.0709e-01, -1.8287e-01,  6.3104e-03,  1.0641e-03, -6.9404e-02],\n",
       "          [ 1.1102e-01, -1.5243e-01, -2.3196e-01, -1.4504e-01, -4.6204e-02]],\n",
       "\n",
       "         [[ 5.5415e-02, -1.2021e-01, -6.4726e-02, -1.3794e-01, -7.1553e-02],\n",
       "          [ 1.6456e-01,  1.3289e-01,  1.0236e-01,  4.7551e-03,  4.1238e-02],\n",
       "          [ 6.6223e-02,  2.6073e-01,  3.0616e-01,  3.7315e-01,  2.6891e-01],\n",
       "          [-2.5039e-01, -1.6159e-01,  3.8222e-02, -5.3162e-02, -1.3673e-02],\n",
       "          [-3.6447e-02, -7.2823e-02, -2.5755e-01, -6.9860e-02, -1.4401e-01]],\n",
       "\n",
       "         [[ 6.7919e-02, -3.6604e-02,  1.1458e-02,  1.3645e-02, -6.0644e-02],\n",
       "          [-8.0054e-02, -3.2139e-02, -3.4284e-02, -2.0466e-01, -3.1037e-02],\n",
       "          [ 1.7173e-01,  2.5514e-01,  2.3475e-01,  2.2257e-01,  1.5910e-01],\n",
       "          [-1.3167e-01, -1.0055e-01, -8.2904e-02,  5.8890e-02, -1.3510e-01],\n",
       "          [ 9.7165e-02, -1.2294e-01,  4.4235e-03, -1.3797e-01, -1.5938e-02]]],\n",
       "\n",
       "\n",
       "        [[[ 3.4626e-02,  5.2897e-02, -1.0132e-01,  3.2730e-02,  9.7259e-02],\n",
       "          [-1.2078e-01, -1.8496e-02,  3.6763e-02,  4.0514e-02,  6.1360e-02],\n",
       "          [ 3.0767e-02, -3.8077e-03, -1.2648e-01, -6.0694e-02, -3.9320e-02],\n",
       "          [-1.5117e-01, -2.1799e-02, -5.5977e-02, -4.2995e-02, -7.4003e-02],\n",
       "          [-9.8143e-03, -8.2348e-02, -1.2985e-01, -1.2907e-02, -3.1989e-02]],\n",
       "\n",
       "         [[-1.6641e-01, -7.3227e-02,  1.3132e-02, -6.3950e-03,  7.4559e-02],\n",
       "          [ 9.8136e-02, -2.8568e-02, -1.1195e-02, -2.7458e-02, -3.0552e-02],\n",
       "          [-3.1066e-02,  5.5793e-02, -7.2749e-02,  8.6400e-03, -6.8452e-02],\n",
       "          [ 6.5168e-02, -5.1073e-03, -4.6435e-02, -3.6663e-02,  1.4781e-02],\n",
       "          [-7.5938e-02,  4.5666e-02,  3.0909e-02, -1.2585e-01,  6.1939e-02]],\n",
       "\n",
       "         [[-1.7614e-02,  2.2095e-02,  1.0200e-01,  3.4574e-02, -2.6295e-02],\n",
       "          [ 2.4518e-01,  1.9994e-01,  7.5682e-02, -7.1222e-02, -1.7271e-01],\n",
       "          [ 1.3867e-01,  2.9432e-01,  2.6263e-01, -2.3264e-02, -5.4258e-02],\n",
       "          [ 2.6166e-01,  1.4384e-01,  2.5537e-01,  1.9903e-02, -6.2739e-02],\n",
       "          [ 8.6824e-02,  2.0773e-01,  1.4288e-01,  1.3378e-01, -7.9911e-02]]],\n",
       "\n",
       "\n",
       "        [[[-1.4956e-02,  1.6181e-01,  2.2123e-01,  1.6739e-01, -6.0180e-02],\n",
       "          [ 1.1590e-01,  5.6738e-02,  1.9741e-02, -2.2702e-01, -8.6735e-02],\n",
       "          [ 9.3385e-02, -2.6788e-01, -3.4507e-01, -3.6701e-01, -5.8587e-02],\n",
       "          [-7.4248e-02, -1.2955e-01, -6.7167e-03,  4.3616e-03,  8.2002e-02],\n",
       "          [ 3.2107e-02,  2.0671e-01,  2.2864e-01,  2.9972e-01,  2.4511e-01]],\n",
       "\n",
       "         [[ 6.5601e-02,  3.0432e-02,  3.3585e-02, -4.2414e-02,  1.2549e-02],\n",
       "          [ 1.1195e-02,  1.9312e-01,  3.0830e-02, -1.7619e-01, -2.1575e-01],\n",
       "          [-1.5518e-02, -2.3575e-01, -4.0312e-01, -1.9616e-01,  1.8085e-02],\n",
       "          [-2.7296e-02, -2.2620e-01, -4.0827e-02,  5.3220e-02,  2.2031e-01],\n",
       "          [-7.4088e-02,  1.5314e-01,  3.0514e-01,  2.6889e-01,  7.8162e-03]],\n",
       "\n",
       "         [[-9.8738e-02,  3.7398e-02,  5.0236e-02,  1.8767e-01, -7.7770e-02],\n",
       "          [-9.9811e-03,  1.4006e-01,  1.2533e-01,  1.8414e-02, -1.2959e-01],\n",
       "          [ 8.4588e-02, -1.0840e-02, -3.2459e-01, -2.4878e-01,  6.2704e-03],\n",
       "          [-6.3500e-02, -1.6183e-01, -2.2971e-02,  4.8380e-02,  2.7526e-02],\n",
       "          [-3.5327e-02,  5.4139e-02,  1.5839e-01,  8.4824e-02,  4.4670e-02]]],\n",
       "\n",
       "\n",
       "        [[[ 1.0648e-01, -1.4699e-01,  5.5607e-02,  7.0394e-03, -1.2209e-01],\n",
       "          [ 1.3689e-02, -9.2158e-02,  4.2585e-02, -8.1172e-02, -2.2725e-02],\n",
       "          [-2.1799e-01,  9.9720e-02,  2.5436e-01,  1.8908e-02, -2.0851e-02],\n",
       "          [ 6.8895e-02,  1.4171e-01,  1.4151e-01,  1.4210e-01, -1.6025e-01],\n",
       "          [ 1.3719e-01,  1.6309e-01, -2.0895e-01, -7.4747e-03,  1.0282e-01]],\n",
       "\n",
       "         [[ 1.4212e-01, -7.6157e-02, -7.4774e-02,  3.1964e-02,  6.6185e-02],\n",
       "          [ 1.6773e-02, -7.1941e-02,  1.6125e-01,  1.0498e-01,  1.1114e-01],\n",
       "          [-2.1305e-01,  1.1716e-01,  1.1548e-01,  1.1819e-01, -1.4259e-01],\n",
       "          [ 8.7393e-02,  2.0277e-02,  8.9846e-02,  1.8788e-01, -7.0728e-03],\n",
       "          [ 2.2996e-01,  1.4265e-01, -1.2326e-01,  5.3160e-02,  1.2742e-01]],\n",
       "\n",
       "         [[ 3.8707e-02, -9.2009e-02, -1.0513e-01,  1.0525e-01,  4.1311e-02],\n",
       "          [-9.5513e-02,  3.5500e-02, -6.1822e-02, -9.4979e-02,  2.1771e-02],\n",
       "          [-1.2499e-01, -1.4861e-01,  1.8893e-01,  1.0758e-02, -1.9073e-01],\n",
       "          [-4.8343e-02, -7.6218e-02, -8.9841e-02, -3.9430e-03, -1.6813e-01],\n",
       "          [ 2.2225e-02,  1.1023e-01, -2.3217e-01, -1.5502e-01, -7.3305e-03]]]],\n",
       "       requires_grad=True)"
      ]
     },
     "execution_count": 59,
     "metadata": {},
     "output_type": "execute_result"
    }
   ],
   "source": [
    "net.conv1.weight"
   ]
  },
  {
   "cell_type": "markdown",
   "metadata": {},
   "source": [
    "### predicting and optimizing "
   ]
  },
  {
   "cell_type": "markdown",
   "metadata": {},
   "source": [
    "Now we have come to evaluating our model - how does it actually do? \n",
    "\n",
    "First let us look at the batch images we examined before, and use the model to predict on them. \n",
    "\n",
    "Out model predicts a likelyhood for each class, so we take the ```torch.max()``` of the output to get the most likely class"
   ]
  },
  {
   "cell_type": "markdown",
   "metadata": {},
   "source": [
    "I forgot to unnormalize the images here, meaning that they are very dark. But in the answer not book they are fine"
   ]
  },
  {
   "cell_type": "code",
<<<<<<< HEAD
   "execution_count": 48,
   "id": "d12ecfba",
=======
   "execution_count": 32,
>>>>>>> 2038ff5d368c8a6484fb0359a919d882c28b73df
   "metadata": {},
   "outputs": [
    {
     "name": "stderr",
     "output_type": "stream",
     "text": [
      "Clipping input data to the valid range for imshow with RGB data ([0..1] for floats or [0..255] for integers).\n"
     ]
    },
    {
     "data": {
      "image/png": "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",
      "text/plain": [
       "<Figure size 432x288 with 1 Axes>"
      ]
     },
     "metadata": {
      "needs_background": "light"
     },
     "output_type": "display_data"
    },
    {
     "name": "stderr",
     "output_type": "stream",
     "text": [
      "Clipping input data to the valid range for imshow with RGB data ([0..1] for floats or [0..255] for integers).\n"
     ]
    },
    {
     "name": "stdout",
     "output_type": "stream",
     "text": [
      "Actual label: bird\n",
      "Predeicted label: bird\n"
     ]
    },
    {
     "data": {
      "image/png": "iVBORw0KGgoAAAANSUhEUgAAAPsAAAD5CAYAAADhukOtAAAAOXRFWHRTb2Z0d2FyZQBNYXRwbG90bGliIHZlcnNpb24zLjQuMywgaHR0cHM6Ly9tYXRwbG90bGliLm9yZy/MnkTPAAAACXBIWXMAAAsTAAALEwEAmpwYAAAaeElEQVR4nO2df4xcV3XHv+ft7GS8u1k2m8VZJ7YxCYlSY5mNWUWhidK0pJGhlCRIUNJSuSrFtCVVU8EfaVqVtP+UVg2IqlUk06SEikIiCGAhFxKFuk4EARZjHCc2jrNyzcY/Npv1dr2Mx+O37/SPeWk34Z6z6/m58f1+pNXO3DP3vfPuvPPezP3OOVdUFYSQ85+k0w4QQtoDg52QSGCwExIJDHZCIoHBTkgkMNgJiYRCI51FZDOAzwLoAvAvqvopd2cXrNDu3v6gTTP7upMgC/eBOHvzrmNev3OnuyvsHwAUupp/PRWx/c8MKfXs/LzZZ37ell89ZTazN2ki4rzPiW1TOI44Tlr9PMk5cU6PghMxXj9P4K7rbJTwFitzp1CtnA5usu5gF5EuAP8M4NcBTAD4oYhsV9XnrD7dvf244ubfCdqq1R5zXz1ZOdieJp77Jcdm98tS22adisMDYf8AYHDA88O7EDgXEOeMq1TTYPvk7KzZZ2au6mzPNKE86/hvuF8sFs0uPT32OZA545GmtpNpGh4Pqx0ASraLGB6y+xWL9niktvsomBc5e18ohDc4tv0Rs0sjt51rARxS1XFVrQL4MoBbG9geIaSFNBLslwH42YLnE3kbIWQZ0kiwh74X/MIXCRHZKiJjIjI2f+Z0A7sjhDRCI8E+AWDNguerARx97YtUdZuqjqrqaNcFKxrYHSGkERoJ9h8CuFJE3iwiRQAfBLC9OW4RQppN3bPxqpqKyJ0Avo2a9Pagqj7r9amkBTw7M2BYB81+lxgz2qU+a1tAtexMfzoyX9WZ9c2y8KxvoWTPmiZ9ffb2nCnaLHNm40v2DH+5GPbleGXG7DPX48xmOzPMs1XbdrYS9qO7YPveXwrLsgCQpva+Ks7M+pm5mbDBGd839Nl+9PVXTJsjNGDWUUMsUkcKKRbCCtBZtUO6IZ1dVXcA2NHINggh7YG/oCMkEhjshEQCg52QSGCwExIJDHZCIqGh2fhzJikApeGwLbXljmlDdknKTlJC4sgWjkaSGdIVABStBJSeAbNPBU5yR+JIb44EWHVkqLIhKVWcjLJKYifylAZs/0sFW4ZKy+FtFor2KVdOnO05SSFnnfcMPcY2nWyXwpBtqyReso4zxnC2WQ2fq3OOfFxIwts7O99l9uGdnZBIYLATEgkMdkIigcFOSCQw2AmJhLbOxhe6ElzUH06EmHPKUiENz6hWyvaMe6lkX8cKBecaV7BnTft7wr73ODPMhcyeKXZyMdyySamXQGNcv0veMTsz9UXHycQ57pIxa504pcTK5TnTdro8Y9q6nGMrDYXfM0+RKRXs86rqnHPeOBpVpGo2460uV72Cd+HjUvVqORJCooDBTkgkMNgJiQQGOyGRwGAnJBIY7IREQlultwQZ+qxkBy+ZIQnbstSuZ5ZWbFvmJCUUnJprMFaLSQxpEAAS77g8MnubRim8nLCPRSexpuQk5BS8lWkSp76eIYd5SzwVHNnTSwwqOf16io6ka1FxpM3UThqqeOPorl5kLG9mJMgAAIrG+aGOVOp4QAg5j2CwExIJDHZCIoHBTkgkMNgJiQQGOyGR0JD0JiKHAZwCMA8gVdVR9/UJUCyGpYHMyyYypInMSSVKvRpuXlaTk6VWyMLDZdV9AwAYfQBfhsq8OnlV57iN+nTOykRIHOmq6GSUZU6dPycxz6THkFgBAE7tNy+Tzjp3qo6s5d8Bvawy2w+vPl3VqK8ntnqMgnEOp8kvLKT8/33szS2ZX1XVqSZshxDSQvgxnpBIaDTYFcBjIvIjEdnaDIcIIa2h0Y/x16vqURFZCeBxETmgqrsWviC/CGwFgEKvvSwzIaS1NHRnV9Wj+f9JAF8DcG3gNdtUdVRVR7tW2L+lJoS0lrqDXUR6ReTCVx4DuAXAvmY5RghpLo18jL8EwNdE5JXt/LuqfmuxTqlxfak6MpR5SXL0pMSr8OfJa1XblhiSl5ft5F1OvUyo1JGG5pysrKRoLKPlFZz0ZKHMLgKZYNa0WceWOqec955Zki0AS10DAFSNwp2Vqp295kmRcN6zeoPJejut1cYAoGTIlD9HC6Q3VR0H8LZ6+xNC2gulN0IigcFOSCQw2AmJBAY7IZHAYCckEtpacDLLgIohbWWZfd2x8p36nWtVycj+AoDUkU+qxnpuAFC1iig68lRWcbL5rEW+4K/1VkntbRaNtzSDc1yZI0PBPraSU5zTfD8zW9ZKjOwvACg5spx37lj6rLNMHZxTB6mT4ei9Z16Go93PK7IZPoDTNSk87INpIYScVzDYCYkEBjshkcBgJyQSGOyEREJbZ+NFgIIxi1iq2tedPsNmJQMAQMnJZaiUnJlRJ2EkNWaf06qT0GK7YSYFAUBWchJGnH4FY2a3WrWTVjw1YWjInsWfmnWWvTJOrXqWQar1s3t59e6s880p8YfMSZRKnNl4r+yeV/Mus7bpbdCy2XkwvLMTEgsMdkIigcFOSCQw2AmJBAY7IZHAYCckEtoqvSVJgj4j0STNnLVujBpvs04iyZy9WhB6nEvcoJd8YCRclJzkDo85ZxmnqlMLLyvaY2WtNpU52ysm9vZSRzwsO9vs6zESchydrOjU8kuc98WUrmArVF7Jw4J3D/QSWhw/PMkOhi11JEBrX47yxjs7IbHAYCckEhjshEQCg52QSGCwExIJDHZCImFR6U1EHgTwHgCTqrohbxsE8DCAdQAOA/iAqp5cbFtdIugzspCmnTUf57JwxlDBWf+pL7FtnsTj1SazaqQlmZ39lXr14twlmRxZzpPKqsZxO9JPxcnIWrt2pWlDMm2axg9OBNuHhy41+2SOzOdlorl14Yx+mbcMlafLuT469Qadc846DZySdqgn7W0pd/bPA9j8mra7ATyhqlcCeCJ/TghZxiwa7Pl666+9hN8K4KH88UMAbmuuW4SQZlPvd/ZLVPUYAOT/nc96hJDlQMsn6ERkq4iMicjY2dOnWr07QohBvcF+QkRWAUD+f9J6oapuU9VRVR3tXnFhnbsjhDRKvcG+HcCW/PEWAN9ojjuEkFaxFOntSwBuAjAkIhMAPgngUwAeEZEPAzgC4P1L2luWAZWwTFXI7IKIBUwF2xMrxQtAKbXlqR5HBulxpDKkYd/Tor18kqE0AgCmJ8wPREgdOaxvcK1pKxWGgu2DA/1mn7WX2nLYymE7ffAfdzxq2rIsvL+e4WGzz5xxbgCo+7aUGRKVm4TmFfT0duZmxDk6mldYsoksGuyqeodhemeTfSGEtBD+go6QSGCwExIJDHZCIoHBTkgkMNgJiYS2Fpys7TCsMwxX7PXGembDGVQzk2FJDgBKTmZYnyO9pdPHTVt1Nry/41Nh/wBg4vQR03bGLQ9o8+Hf+KhpG1o/GGwf2WjLa+tW27Lc0Unb/5s32BLgc4fDcmTFGEMASEq2zOdJV17BSUvWctUuo7Ao4Be+NJYCzDs66/pZmXROcU7vkE0Xzr0LIeT1CIOdkEhgsBMSCQx2QiKBwU5IJDDYCYmEtkpvAjWli34nKejIrqeD7c+ffLIZbr3uuHH0ctOWloyimJMHzT67fvCcaRt7brdtm7Cz/V78abgY5UXXv8/sM3TVRtPmSm9OEcjUyIx01FcfT/NyC5l66/qFMxxdJc/KztTGCk4SQs4DGOyERAKDnZBIYLATEgkMdkIioa2z8ZmqudTQnJO48nzZnvU9X3nrxRebtt1Hx03bjDFJu2n9BrPPwTl7fH9w3E5cWbdxk2l7cSKsoJRTu9agt+xS1V8LySQ1klqcyXEUnPp/Xk3BgrPRLLMTvapzR4PtxUI4qQkACsZsvHA2nhDCYCckEhjshEQCg52QSGCwExIJDHZCImEpyz89COA9ACZVdUPedi+AjwB4KX/ZPaq6Y7FtKYCKoU5UHdnlog1XB9tPjs/YOzv5wmLu1IEEW3vX2EsaXbrSlk/WrrT7/fKILWtlTq22ymx4CaXBdXYNuuywnSTT7ywNdd0tN5m2aePUymD7vm6lLa9NhNWp2r5cZdaQ0QpOp+qMaeqv2CHTX7SP7eiUXcvv5f/6ZrBd3n6b2afUNxA2aPgcBZZ2Z/88gM2B9s+o6kj+t2igE0I6y6LBrqq7AITzFQkhrxsa+c5+p4jsFZEHReSipnlECGkJ9Qb7/QCuADAC4BiA+6wXishWERkTkbHUqQ1PCGktdQW7qp5Q1XlVzQB8DsC1zmu3qeqoqo4WSn31+kkIaZC6gl1EVi14ejuAfc1xhxDSKpYivX0JwE0AhkRkAsAnAdwkIiOoqWmHAdjrES2gUjmNgwf3BG1D/SvNfu+5MVybbO17R8w+s4f3mrbJQwdM24ar7eywq9eH5bCevqLZp1iyh3hgeLVpy5y3Zjazs7Kmja9KG69eb/b57lPfMW1vGRowbaODQ6ZtYigsQ1V67PvLphvsfY0fsrMiDx2YMW2VSjjLLp2zl/laPWT7OH3QltCOH7HlvBfG7X7Az4KtOhOWUQEgM8bRW1Bs0WBX1TsCzQ8s1o8QsrzgL+gIiQQGOyGRwGAnJBIY7IREAoOdkEhoa8FJ/fkUznwvPJF//JJrzH7v+/2/DLYPO7LWbNEu/lfusX/ck1hpeQBmn94TbD80NWH2mSnbvxo8XrGzvEqDthQ5dKltG9kYlg6rTrbZ5WX7mAec5LDDOx6zjUfCmXTDV9tZdJf32GOVDM6YtquvGzBt43smg+27vmXLjVOJfV4drthy2HTqVaPst21dvxJuL9kZk1XDD81YcJKQ6GGwExIJDHZCIoHBTkgkMNgJiQQGOyGR0FbpzWP+xI9N29TBsWD7U+P2mmf3/evDDfu0XHnXO95h2nbs/FawffPNt5h9Lh2ws9f+6YH7l+7YAu76k48E22cm7Oyvya/YUl46fsi0Tc/ZWYB7joa1w59O2Vlvb9pgZz6uHb7KtGWTtiw3B1suPZ0aUrB3K06NSnFqy7m8sxMSCQx2QiKBwU5IJDDYCYkEBjshkbBsZuM9brjl5mD77FNPO71e37Pxv3nH7abt+MyUafvx914Mthem7VnwP3CWcTplWoDeLttW6gnXjDuwz1ZQ9n7HrhtYKtizzLNFuwbg1EA48aZ3w4jZZ2CTXa9vdtIex5d2P2XasCF8DgMArMQbJ4kqy4xzIDtr78b2gBByPsFgJyQSGOyERAKDnZBIYLATEgkMdkIiQVS9BWMAEVkD4AsAhgFkALap6mdFZBA1fWsdaktAfUBVTy6yLXNn3St6zX4zk0eD7VOzdoG07du/bjtStSWNUo9dq62KsJx06bBdV23danuJp74+e0mj4ZV2/bGvf327afvOzl3B9ve+9zazz1VrLzdtO7d/07RVjh82bcdnw8suzTlJNzsPhOvWAcD+Pc5ygifDdeYAACvWhdsNaRAA3vWHv23a/uNTf27va942uax6Z7h9xjmu01ZiUAWqmYQsS7mzpwA+rqq/BOA6AB8TkfUA7gbwhKpeCeCJ/DkhZJmyaLCr6jFV3Z0/PgVgP4DLANwK4KH8ZQ8BuK1FPhJCmsA5fWcXkXUArgHwfQCXqOoxoHZBAJyEXUJIx1nyz2VFpA/AVwHcpaqzIsGvBaF+WwFsrc89QkizWNKdXUS6UQv0L6rqo3nzCRFZldtXAQjOJqjqNlUdVdXRZjhMCKmPRYNdarfwBwDsV9VPLzBtB7Alf7wFwDea7x4hpFksRXq7AcCTAJ5BTXoDgHtQ+97+CIC1AI4AeL+qGoWx/m9b5s7+9o/+zOz3vj/+ULC96CxpNNBv2wp9dpaUvRASUMiMbz0V+5pZLtt1yWbnwvIUAJQdW3XOWVJqIixTHj5q11wrJ7b/U86+xo/aGWDlUljaevqgXUvu5SftJZkAO5urLt78dtP0W/d+wrQ9vOWO5vrRAlQ1+B170e/sqvoUAOsLuiEQEkKWG/wFHSGRwGAnJBIY7IREAoOdkEhgsBMSCW0tONnT24u3jowEbTfddIPZ77gh8ZTKtvvjFUeeqjqSV9VeSqhkFAZME1vKq2a2mJc6tqRgH1vmCISJkcxVGnmL2adStPdVnp0xbdUhY9kiAIcMie3lJ79t9qkf+9eca371tmD7h34vLOcCwOeP7LZ3teoNts0pfImKnaEJ65zrs8cXlgw8aSee8s5OSCQw2AmJBAY7IZHAYCckEhjshEQCg52QSGir9Ham0IWDg2E5YWdqS2VDc+F1vlYX7eI42Uq7sGGxYBdzzKr2mmIwpLK5xJbrnK0hS21r6vhRrTiZdEahx+pxe3ynqvb2jszMmLZDzrptx5zstuZjZ27OHggXqvzuzsfMPsfGv2vvqt8+d1C0My3R55wJqXH+eCfPnPGehRPeAPDOTkg0MNgJiQQGOyGRwGAnJBIY7IREwqI16Jq6s+5EcbGRLHDijN3xQqM967L7DA7YtoF+2+YlHxh11eDMjvdafQBUnfp0Z53ab+41enom3F52EjFSp/Je2Xlf2nfqtBfntEJinYwAivZ7DSexyVJ53Fux9X6mP4dm83Uv/0QIOQ9gsBMSCQx2QiKBwU5IJDDYCYkEBjshkbCU5Z/WAPgCgGHUVkfapqqfFZF7AXwEwEv5S+9R1R3utnq6FVddFDZOOVLToCFpzDqZAlOnbJujQsFRTzBwgeGHI095l9Nit21z6tNhZt62na9yGFkydS//hFruzcdVdbeIXAjgRyLyeG77jKr+Q7OcJIS0jqWs9XYMwLH88SkR2Q/gslY7RghpLuf0nV1E1gG4BrUVXAHgThHZKyIPiojx+ZwQshxYcrCLSB+ArwK4S1VnAdwP4AoAI6jd+e8z+m0VkTERGXN/lkkIaSlLCnYR6UYt0L+oqo8CgKqeUNV5Vc0AfA7AtaG+qrpNVUdVdRQFTv4T0ikWjT4REQAPANivqp9e0L5qwctuBxCu/0MIWRYsZTb+egC/C+AZEdmTt90D4A4RGUFN7DkM4KOLbqmrCxgYMIxOJlp1OtyeOdKbd2TOrpyVlXyJzaJk1wSDs1oQnCWZkDjSW9HYX8mpj+aNo3fMnoRZx1CR1rKU2finEF5My9XUCSHLC36JJiQSGOyERAKDnZBIYLATEgkMdkIioa3LP2E+A2YMvWbScWUuvKQRTjkSlKN4uUd91rHVQ8VJQ0ucnXkSoGfrN/aX2UtUIeEvGzvKBSvC7Wec98y8T9syKu/shEQCg52QSGCwExIJDHZCIoHBTkgkMNgJiYQ2S2/zwMxM2FZxUtFSy806Cy82W17zcFx0bfXyP0Z7xTnofken9NSfZme2eXKpd1tqxTia1KvpOjbz/PYk0XMffN7ZCYkEBjshkcBgJyQSGOyERAKDnZBIYLATEgmLrvXW1J0loqYC0U457HzGUoYGnD6lLts27ehanvpj+VHv6dbr2FJHDjuzTBa/6zIy2wBg3spUcxYeFGNtRFVzrTfe2QmJBAY7IZHAYCckEhjshEQCg52QSFg0EUZESgB2Abggf/1XVPWTIjII4GEA61Bb/ukDqnrS3ZiCs+6txlpSavANdp+Kk+2SnbZt9eSE1Pv+e0tNFZ0Zd0to8G5zns3NP+m2Td5yXhVjNl6dg65DRVvKnf0MgF9T1behtjzzZhG5DsDdAJ5Q1SsBPJE/J4QsUxYNdq3xiqjXnf8pgFsBPJS3PwTgtlY4SAhpDktdn70rX8F1EsDjqvp9AJeo6jEAyP+vbJmXhJCGWVKwq+q8qo4AWA3gWhHZsNQdiMhWERkTkbE6fSSENIFzmo1X1RkAOwFsBnBCRFYBQP5/0uizTVVHVXW0MVcJIY2waLCLyBtFZCB/vALAzQAOANgOYEv+si0AvtEiHwkhTWDRRBgR2YjaBFwXaheHR1T1b0TkYgCPAFgL4AiA96vq9CLbUlMKqaeOmKN0uCSOZuQuu2SMlSV3AW4uA4rOASTOdbjg2azteU46WLIQAJS8umrGQFYdOcmTp7yBTBxb2difO77eWHn9PP+dEyszbKkz9j1GIsyRKrSSBU/wRXV2Vd0L4JpA+8sA3rlYf0LI8oC/oCMkEhjshEQCg52QSGCwExIJDHZCIqG9NehEXgLw3/nTIQBTbdu5Df14NfTj1bze/HiTqr4xZGhrsL9qxyJjy+FXdfSDfsTiBz/GExIJDHZCIqGTwb6tg/teCP14NfTj1Zw3fnTsOzshpL3wYzwhkdCRYBeRzSLyUxE5JCIdq10nIodF5BkR2dPO4hoi8qCITIrIvgVtgyLyuIg8n/+/qEN+3CsiL+ZjskdE3t0GP9aIyH+KyH4ReVZE/jRvb+uYOH60dUxEpCQiPxCRn+R+/HXe3th4aG1tqLb9oZYq+wKAy1FLDv0JgPXt9iP35TCAoQ7s90YAmwDsW9D29wDuzh/fDeDvOuTHvQA+0ebxWAVgU/74QgAHAaxv95g4frR1TFCr29uXP+4G8H0A1zU6Hp24s18L4JCqjqtqFcCXUSteGQ2qugvAa3P/217A0/Cj7ajqMVXdnT8+BWA/gMvQ5jFx/GgrWqPpRV47EeyXAfjZgucT6MCA5iiAx0TkRyKytUM+vMJyKuB5p4jszT/mt/zrxEJEZB1q9RM6WtT0NX4AbR6TVhR57USwh6podEoSuF5VNwF4F4CPiciNHfJjOXE/gCtQWyPgGID72rVjEekD8FUAd6nqbLv2uwQ/2j4m2kCRV4tOBPsEgDULnq8GcLQDfkBVj+b/JwF8DbWvGJ1iSQU8W42qnshPtAzA59CmMRGRbtQC7Iuq+mje3PYxCfnRqTHJ9z2DcyzyatGJYP8hgCtF5M0iUgTwQdSKV7YVEekVkQtfeQzgFgD7/F4tZVkU8HzlZMq5HW0YExERAA8A2K+qn15gauuYWH60e0xaVuS1XTOMr5ltfDdqM50vAPiLDvlwOWpKwE8APNtOPwB8CbWPg2dR+6TzYQAXo7aM1vP5/8EO+fFvAJ4BsDc/uVa1wY8bUPsqtxfAnvzv3e0eE8ePto4JgI0Afpzvbx+Av8rbGxoP/oKOkEjgL+gIiQQGOyGRwGAnJBIY7IREAoOdkEhgsBMSCQx2QiKBwU5IJPwvdyX+1xDoldQAAAAASUVORK5CYII=",
      "text/plain": [
       "<Figure size 432x288 with 1 Axes>"
      ]
     },
     "metadata": {
      "needs_background": "light"
     },
     "output_type": "display_data"
    },
    {
     "name": "stderr",
     "output_type": "stream",
     "text": [
      "Clipping input data to the valid range for imshow with RGB data ([0..1] for floats or [0..255] for integers).\n"
     ]
    },
    {
     "name": "stdout",
     "output_type": "stream",
     "text": [
      "Actual label: ship\n",
      "Predeicted label: plane\n"
     ]
    },
    {
     "data": {
      "image/png": "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",
      "text/plain": [
       "<Figure size 432x288 with 1 Axes>"
      ]
     },
     "metadata": {
      "needs_background": "light"
     },
     "output_type": "display_data"
    },
    {
     "name": "stderr",
     "output_type": "stream",
     "text": [
      "Clipping input data to the valid range for imshow with RGB data ([0..1] for floats or [0..255] for integers).\n"
     ]
    },
    {
     "name": "stdout",
     "output_type": "stream",
     "text": [
      "Actual label: horse\n",
      "Predeicted label: horse\n"
     ]
    },
    {
     "data": {
      "image/png": "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",
      "text/plain": [
       "<Figure size 432x288 with 1 Axes>"
      ]
     },
     "metadata": {
      "needs_background": "light"
     },
     "output_type": "display_data"
    },
    {
     "name": "stdout",
     "output_type": "stream",
     "text": [
      "Actual label: dog\n",
      "Predeicted label: dog\n"
     ]
    }
   ],
   "source": [
    "for i,n in enumerate(images):\n",
    "    plt.imshow(np.transpose(images[i],(1,2,0)))\n",
    "    plt.show()\n",
    "    print(\"Actual label:\", labs[i])    \n",
    "    \n",
    "    _, predicted = torch.max(net(torch.unsqueeze(images[i], 0)), 1)\n",
    "    print(\"Predeicted label:\", classes[predicted])"
   ]
  },
  {
   "cell_type": "markdown",
   "metadata": {},
   "source": [
    "Let us now caulate how many percent of the images we get rigth"
   ]
  },
  {
   "cell_type": "code",
<<<<<<< HEAD
   "execution_count": 49,
   "id": "7067f05e",
=======
   "execution_count": 33,
>>>>>>> 2038ff5d368c8a6484fb0359a919d882c28b73df
   "metadata": {},
   "outputs": [
    {
     "name": "stdout",
     "output_type": "stream",
     "text": [
      "The training acc. of the model is: 0.58328\n"
     ]
    }
   ],
   "source": [
    "true_labs = []\n",
    "predicted_labs = []\n",
    "\n",
    "with torch.no_grad(): #important - means that we no longer update our model, we simply evaluate it\n",
    "    for data in trainloader: #for each bathc in the dataloader\n",
    "        images, labels = data \n",
    "        outputs = net(images) #predict on the images\n",
    "        _, predicted = torch.max(outputs.data, 1) #take the most likely prediction \n",
    "        \n",
    "        true_labs += labels #save true labels\n",
    "        predicted_labs += predicted #save predicted labels\n",
    "\n",
    "print(\"The training acc. of the model is:\", accuracy_score(true_labs, predicted_labs)) #print acc"
   ]
  },
  {
   "cell_type": "markdown",
   "metadata": {},
   "source": [
    "How good is the model? remember that with 10 evenly balanced classes - what should the baseline for randomly guessing be? "
   ]
  },
  {
   "cell_type": "markdown",
   "metadata": {},
   "source": [
    "Now predictiing on the training data is one thing, but actaully being able to predict new similar data is a whole other thing  - so we use a test dataset, and look at how well we do on that. "
   ]
  },
  {
   "cell_type": "code",
<<<<<<< HEAD
   "execution_count": 50,
   "id": "cd91deb5",
=======
   "execution_count": 34,
>>>>>>> 2038ff5d368c8a6484fb0359a919d882c28b73df
   "metadata": {},
   "outputs": [
    {
     "name": "stdout",
     "output_type": "stream",
     "text": [
      "Files already downloaded and verified\n"
     ]
    }
   ],
   "source": [
    "testset = torchvision.datasets.CIFAR10(root='./data', train=False,\n",
    "                                       download=True, transform=transform)\n",
    "testloader = torch.utils.data.DataLoader(testset, batch_size=4,\n",
    "                                         shuffle=False, num_workers=2)"
   ]
  },
  {
   "cell_type": "code",
<<<<<<< HEAD
   "execution_count": 51,
   "id": "8ab94d59",
=======
   "execution_count": 35,
>>>>>>> 2038ff5d368c8a6484fb0359a919d882c28b73df
   "metadata": {},
   "outputs": [
    {
     "name": "stdout",
     "output_type": "stream",
     "text": [
      "The test acc. of the model is: 0.5603\n"
     ]
    }
   ],
   "source": [
    "true_labs_test = []\n",
    "predicted_labs_test = []\n",
    "\n",
    "with torch.no_grad():\n",
    "    for data in testloader:\n",
    "        images, labels = data\n",
    "        outputs = net(images)\n",
    "        _, predicted = torch.max(outputs.data, 1)\n",
    "        \n",
    "        true_labs_test += labels\n",
    "        predicted_labs_test += predicted\n",
    "print(\"The test acc. of the model is:\",accuracy_score(true_labs_test, predicted_labs_test))"
   ]
  },
  {
   "cell_type": "markdown",
   "metadata": {},
   "source": [
    "To optimze the models there are many things that we can change: \n",
    "- the structure of the model - in genereal the more complicated the task the more complex the model should be. 10 classes is not a lot, but it is also not trivial. Our model is probably to shallow. It is in general a very small model. State of the art models have 152 convoutional layers (among other things) \n",
    "- tinker with the optimizer, activation functions and weight initiations- usualy Adam optimizer and ReLu activations will be the best, but maybe not. Here we do no weight initiations, but this can be very usefull\n",
    "- change the learning rate and/or allow the model to train for a longer time - probably the most usefull. If you do this be sure to surveil the models performance, also on a validation set along the way (build it into your traning loop)"
   ]
  },
  {
   "cell_type": "markdown",
   "metadata": {},
   "source": [
    "###  Fine-tuning a pre-trained network for your task (transfer learning)"
   ]
  },
  {
   "cell_type": "markdown",
   "metadata": {},
   "source": [
    "For this part we will use a state-of-the-art network structure, that has already been trained on some data. It has not been trained on our data however, but it will still perform way better than the model have just made. This is because there is a lot general structure to images, that the CNN can learn from any image set. \n",
    "\n",
    "We will use a ResNet structure. The best ResNet is ResNet152, but we will use a smaller one for convinience, and because our task is not as complicated"
   ]
  },
  {
   "cell_type": "markdown",
   "metadata": {},
   "source": [
    "While we could in theory find any model out there, I am going to be using some of the models already in Pytorch (like you would for NLP with huggingface). However you can read in our own models and intiate the weights with the pretraned wigths. "
   ]
  },
  {
   "cell_type": "code",
<<<<<<< HEAD
   "execution_count": 52,
   "id": "8b2e3038",
=======
   "execution_count": 29,
>>>>>>> 2038ff5d368c8a6484fb0359a919d882c28b73df
   "metadata": {},
   "outputs": [],
   "source": [
    "from torchvision import models"
   ]
  },
  {
   "cell_type": "markdown",
   "metadata": {},
   "source": [
    "Load model"
   ]
  },
  {
   "cell_type": "code",
<<<<<<< HEAD
   "execution_count": 53,
   "id": "41f6ca46",
=======
   "execution_count": 30,
>>>>>>> 2038ff5d368c8a6484fb0359a919d882c28b73df
   "metadata": {},
   "outputs": [
    {
     "name": "stderr",
     "output_type": "stream",
     "text": [
      "Downloading: \"https://download.pytorch.org/models/resnet18-f37072fd.pth\" to /Users/htr365/.cache/torch/hub/checkpoints/resnet18-f37072fd.pth\n",
      "100%|██████████| 44.7M/44.7M [00:03<00:00, 14.5MB/s]\n"
     ]
    }
   ],
   "source": [
    "model_ft = models.resnet18(pretrained=True)\n"
   ]
  },
  {
   "cell_type": "markdown",
   "metadata": {},
   "source": [
    "We can then add an extra outputlayer to match our output need"
   ]
  },
  {
   "cell_type": "code",
<<<<<<< HEAD
   "execution_count": 54,
   "id": "efb19a01",
=======
   "execution_count": 31,
>>>>>>> 2038ff5d368c8a6484fb0359a919d882c28b73df
   "metadata": {},
   "outputs": [],
   "source": [
    "\n",
    "num_ftrs = model_ft.fc.in_features #output size of the final layer\n",
    "model_ft.fc = nn.Linear(num_ftrs, 10) #create a new output layer with the amount og features that fit waht i need\n"
   ]
  },
  {
   "cell_type": "markdown",
   "metadata": {},
   "source": [
    "Let us look at the model structure here - notice the last layer :)"
   ]
  },
  {
   "cell_type": "code",
   "execution_count": 32,
   "metadata": {},
   "outputs": [
    {
     "data": {
      "text/plain": [
       "ResNet(\n",
       "  (conv1): Conv2d(3, 64, kernel_size=(7, 7), stride=(2, 2), padding=(3, 3), bias=False)\n",
       "  (bn1): BatchNorm2d(64, eps=1e-05, momentum=0.1, affine=True, track_running_stats=True)\n",
       "  (relu): ReLU(inplace=True)\n",
       "  (maxpool): MaxPool2d(kernel_size=3, stride=2, padding=1, dilation=1, ceil_mode=False)\n",
       "  (layer1): Sequential(\n",
       "    (0): BasicBlock(\n",
       "      (conv1): Conv2d(64, 64, kernel_size=(3, 3), stride=(1, 1), padding=(1, 1), bias=False)\n",
       "      (bn1): BatchNorm2d(64, eps=1e-05, momentum=0.1, affine=True, track_running_stats=True)\n",
       "      (relu): ReLU(inplace=True)\n",
       "      (conv2): Conv2d(64, 64, kernel_size=(3, 3), stride=(1, 1), padding=(1, 1), bias=False)\n",
       "      (bn2): BatchNorm2d(64, eps=1e-05, momentum=0.1, affine=True, track_running_stats=True)\n",
       "    )\n",
       "    (1): BasicBlock(\n",
       "      (conv1): Conv2d(64, 64, kernel_size=(3, 3), stride=(1, 1), padding=(1, 1), bias=False)\n",
       "      (bn1): BatchNorm2d(64, eps=1e-05, momentum=0.1, affine=True, track_running_stats=True)\n",
       "      (relu): ReLU(inplace=True)\n",
       "      (conv2): Conv2d(64, 64, kernel_size=(3, 3), stride=(1, 1), padding=(1, 1), bias=False)\n",
       "      (bn2): BatchNorm2d(64, eps=1e-05, momentum=0.1, affine=True, track_running_stats=True)\n",
       "    )\n",
       "  )\n",
       "  (layer2): Sequential(\n",
       "    (0): BasicBlock(\n",
       "      (conv1): Conv2d(64, 128, kernel_size=(3, 3), stride=(2, 2), padding=(1, 1), bias=False)\n",
       "      (bn1): BatchNorm2d(128, eps=1e-05, momentum=0.1, affine=True, track_running_stats=True)\n",
       "      (relu): ReLU(inplace=True)\n",
       "      (conv2): Conv2d(128, 128, kernel_size=(3, 3), stride=(1, 1), padding=(1, 1), bias=False)\n",
       "      (bn2): BatchNorm2d(128, eps=1e-05, momentum=0.1, affine=True, track_running_stats=True)\n",
       "      (downsample): Sequential(\n",
       "        (0): Conv2d(64, 128, kernel_size=(1, 1), stride=(2, 2), bias=False)\n",
       "        (1): BatchNorm2d(128, eps=1e-05, momentum=0.1, affine=True, track_running_stats=True)\n",
       "      )\n",
       "    )\n",
       "    (1): BasicBlock(\n",
       "      (conv1): Conv2d(128, 128, kernel_size=(3, 3), stride=(1, 1), padding=(1, 1), bias=False)\n",
       "      (bn1): BatchNorm2d(128, eps=1e-05, momentum=0.1, affine=True, track_running_stats=True)\n",
       "      (relu): ReLU(inplace=True)\n",
       "      (conv2): Conv2d(128, 128, kernel_size=(3, 3), stride=(1, 1), padding=(1, 1), bias=False)\n",
       "      (bn2): BatchNorm2d(128, eps=1e-05, momentum=0.1, affine=True, track_running_stats=True)\n",
       "    )\n",
       "  )\n",
       "  (layer3): Sequential(\n",
       "    (0): BasicBlock(\n",
       "      (conv1): Conv2d(128, 256, kernel_size=(3, 3), stride=(2, 2), padding=(1, 1), bias=False)\n",
       "      (bn1): BatchNorm2d(256, eps=1e-05, momentum=0.1, affine=True, track_running_stats=True)\n",
       "      (relu): ReLU(inplace=True)\n",
       "      (conv2): Conv2d(256, 256, kernel_size=(3, 3), stride=(1, 1), padding=(1, 1), bias=False)\n",
       "      (bn2): BatchNorm2d(256, eps=1e-05, momentum=0.1, affine=True, track_running_stats=True)\n",
       "      (downsample): Sequential(\n",
       "        (0): Conv2d(128, 256, kernel_size=(1, 1), stride=(2, 2), bias=False)\n",
       "        (1): BatchNorm2d(256, eps=1e-05, momentum=0.1, affine=True, track_running_stats=True)\n",
       "      )\n",
       "    )\n",
       "    (1): BasicBlock(\n",
       "      (conv1): Conv2d(256, 256, kernel_size=(3, 3), stride=(1, 1), padding=(1, 1), bias=False)\n",
       "      (bn1): BatchNorm2d(256, eps=1e-05, momentum=0.1, affine=True, track_running_stats=True)\n",
       "      (relu): ReLU(inplace=True)\n",
       "      (conv2): Conv2d(256, 256, kernel_size=(3, 3), stride=(1, 1), padding=(1, 1), bias=False)\n",
       "      (bn2): BatchNorm2d(256, eps=1e-05, momentum=0.1, affine=True, track_running_stats=True)\n",
       "    )\n",
       "  )\n",
       "  (layer4): Sequential(\n",
       "    (0): BasicBlock(\n",
       "      (conv1): Conv2d(256, 512, kernel_size=(3, 3), stride=(2, 2), padding=(1, 1), bias=False)\n",
       "      (bn1): BatchNorm2d(512, eps=1e-05, momentum=0.1, affine=True, track_running_stats=True)\n",
       "      (relu): ReLU(inplace=True)\n",
       "      (conv2): Conv2d(512, 512, kernel_size=(3, 3), stride=(1, 1), padding=(1, 1), bias=False)\n",
       "      (bn2): BatchNorm2d(512, eps=1e-05, momentum=0.1, affine=True, track_running_stats=True)\n",
       "      (downsample): Sequential(\n",
       "        (0): Conv2d(256, 512, kernel_size=(1, 1), stride=(2, 2), bias=False)\n",
       "        (1): BatchNorm2d(512, eps=1e-05, momentum=0.1, affine=True, track_running_stats=True)\n",
       "      )\n",
       "    )\n",
       "    (1): BasicBlock(\n",
       "      (conv1): Conv2d(512, 512, kernel_size=(3, 3), stride=(1, 1), padding=(1, 1), bias=False)\n",
       "      (bn1): BatchNorm2d(512, eps=1e-05, momentum=0.1, affine=True, track_running_stats=True)\n",
       "      (relu): ReLU(inplace=True)\n",
       "      (conv2): Conv2d(512, 512, kernel_size=(3, 3), stride=(1, 1), padding=(1, 1), bias=False)\n",
       "      (bn2): BatchNorm2d(512, eps=1e-05, momentum=0.1, affine=True, track_running_stats=True)\n",
       "    )\n",
       "  )\n",
       "  (avgpool): AdaptiveAvgPool2d(output_size=(1, 1))\n",
       "  (fc): Linear(in_features=512, out_features=10, bias=True)\n",
       ")"
      ]
     },
     "execution_count": 32,
     "metadata": {},
     "output_type": "execute_result"
    }
   ],
   "source": [
    "model_ft"
   ]
  },
  {
   "cell_type": "code",
   "execution_count": 33,
   "metadata": {},
   "outputs": [],
   "source": [
    "from tqdm import tqdm"
   ]
  },
  {
   "cell_type": "markdown",
   "metadata": {},
   "source": [
    "Let us see the performance of the model as is - it will be a bit slower, as the model is WAY bigger, meaning that everything takes a long time to pass though. \n",
    "\n",
    "On a GPU this is not a big issue,"
   ]
  },
  {
   "cell_type": "markdown",
   "metadata": {},
   "source": [
    "Do not run this if you do not want it to run for a few minuts"
   ]
  },
  {
   "cell_type": "code",
   "execution_count": 34,
   "metadata": {},
   "outputs": [],
   "source": [
    "m = nn.Upsample(scale_factor=8) #the images are a bit to small for the resnet, so I upsample them to better match what resnet was trained on\n"
   ]
  },
  {
   "cell_type": "code",
   "execution_count": 41,
   "metadata": {},
   "outputs": [
    {
     "name": "stderr",
     "output_type": "stream",
     "text": [
      "100%|████████████████████████████████████████████████████████████████████████████| 12500/12500 [10:20<00:00, 20.14it/s]\n"
     ]
    },
    {
     "name": "stdout",
     "output_type": "stream",
     "text": [
      "The training acc. of the model is: 0.09364\n"
     ]
    }
   ],
   "source": [
    "true_labs = []\n",
    "predicted_labs = []\n",
    "\n",
    "with torch.no_grad(): #important - means that we no longer update our model, we simply evaluate it\n",
    "    for data in tqdm(trainloader): #for each bathc in the dataloader\n",
    "        images, labels = data \n",
    "        images = m(images)\n",
    "        outputs = model_ft(images) #predict on the images\n",
    "        _, predicted = torch.max(outputs.data, 1) #take the most likely prediction \n",
    "        \n",
    "        true_labs += labels #save true labels\n",
    "        predicted_labs += predicted #save predicted labels\n",
    "\n",
    "print(\"The training acc. of the model is:\", accuracy_score(true_labs, predicted_labs)) #print acc"
   ]
  },
  {
   "cell_type": "code",
   "execution_count": 42,
   "metadata": {},
   "outputs": [
    {
     "name": "stderr",
     "output_type": "stream",
     "text": [
      "100%|██████████████████████████████████████████████████████████████████████████████| 2500/2500 [02:04<00:00, 20.14it/s]\n"
     ]
    },
    {
     "name": "stdout",
     "output_type": "stream",
     "text": [
      "The test acc. of the model is: 0.0906\n"
     ]
    }
   ],
   "source": [
    "true_labs_test = []\n",
    "predicted_labs_test = []\n",
    "\n",
    "with torch.no_grad():\n",
    "    for data in tqdm(testloader):\n",
    "        images, labels = data\n",
    "        images = m(images)\n",
    "        outputs = model_ft(images)\n",
    "        _, predicted = torch.max(outputs.data, 1)\n",
    "        \n",
    "        true_labs_test += labels\n",
    "        predicted_labs_test += predicted\n",
    "        \n",
    "print(\"The test acc. of the model is:\",accuracy_score(true_labs_test, predicted_labs_test))"
   ]
  },
  {
   "cell_type": "markdown",
   "metadata": {},
   "source": [
    "It is npt better than random - and of course it is not, it does not know our data. So let us do some training "
   ]
  },
  {
   "cell_type": "markdown",
   "metadata": {},
   "source": [
    "There are many ways of doing this - we can either try to fine tune the full network or instead \"freeze\" the network weghts and only train the last layer that we have just added. Both are valid, and in general training the full net will give a better model but will also take WAY LONGER especially on a CPU. "
   ]
  },
  {
   "cell_type": "markdown",
   "metadata": {},
   "source": [
    "Let us try to freeze the parameters"
   ]
  },
  {
   "cell_type": "code",
   "execution_count": 40,
   "metadata": {},
   "outputs": [],
   "source": [
    "model_ft = models.resnet18(pretrained=True) #read om the model\n",
    "\n",
    "for param in model_ft.parameters(): #freeze the layers\n",
    "    param.requires_grad = False\n",
    "\n",
    "num_ftrs = model_ft.fc.in_features #output size of the final layer\n",
    "model_ft.fc = nn.Linear(num_ftrs, 10) #add the last layer - not frozen\n"
   ]
  },
  {
   "cell_type": "markdown",
   "metadata": {},
   "source": [
    "Define the loss and optimizer"
   ]
  },
  {
   "cell_type": "code",
   "execution_count": 41,
   "metadata": {},
   "outputs": [],
   "source": [
    "criterion = nn.CrossEntropyLoss()\n",
    "optimizer = optim.Adam(filter(lambda p: p.requires_grad, model_ft.parameters()), lr=0.001) #only update the parameters that are to be updated"
   ]
  },
  {
   "cell_type": "markdown",
   "metadata": {},
   "source": [
    "for training reasons i define some new trainloaders with more workers on the CPU and larger batch size\n"
   ]
  },
  {
   "cell_type": "code",
   "execution_count": 42,
   "metadata": {},
   "outputs": [
    {
     "name": "stdout",
     "output_type": "stream",
     "text": [
      "Files already downloaded and verified\n"
     ]
    }
   ],
   "source": [
    "trainset = torchvision.datasets.CIFAR10(root='./data', train=True,transform=transform)\n",
    "trainloader = torch.utils.data.DataLoader(trainset, batch_size=16,\n",
    "                                          shuffle=True, num_workers=6)\n",
    "\n",
    "testset = torchvision.datasets.CIFAR10(root='./data', train=False,\n",
    "                                       download=True, transform=transform)\n",
    "testloader = torch.utils.data.DataLoader(testset, batch_size=16,\n",
    "                                         shuffle=False, num_workers=6)"
   ]
  },
  {
   "cell_type": "code",
   "execution_count": 43,
   "metadata": {},
   "outputs": [],
   "source": [
    "del trainset\n",
    "del testset"
   ]
  },
  {
   "cell_type": "markdown",
   "metadata": {},
   "source": [
    "Run the training loop with the new model, optimizers and criterion - on a CPU this takes HOURS!\n",
    "\n"
   ]
  },
  {
   "cell_type": "code",
   "execution_count": 44,
   "metadata": {},
   "outputs": [
    {
     "name": "stdout",
     "output_type": "stream",
     "text": [
      "[1,  1000] loss: 1.165hes\n",
      "[1,  1000] Accuracy: 0.609\n",
      "[1,  2000] loss: 0.900ches\n",
      "[1,  2000] Accuracy: 0.692\n",
      "[1,  3000] loss: 0.883ches\n",
      "[1,  3000] Accuracy: 0.694\n",
      "[2,  1000] loss: 0.841hess\n",
      "[2,  1000] Accuracy: 0.713\n",
      "[2,  2000] loss: 0.840ches\n",
      "[2,  2000] Accuracy: 0.710\n",
      "[2,  3000] loss: 0.838ches\n",
      "[2,  3000] Accuracy: 0.710\n",
      "Finished Training0 batches\n"
     ]
    }
   ],
   "source": [
    "for epoch in range(2):  # loop over the dataset 2 times\n",
    "\n",
    "    running_loss = 0.0 #we want to zero the loss before the epoch starts (just for us too look at performance, does not do anything)\n",
    "    running_acc = 0.0\n",
    "    for i, data in enumerate(trainloader, 0): #looping over the batches\n",
    "        # get the inputs\n",
    "        inputs, labels = data #get the images and labels\n",
    "        inputs = m(inputs)\n",
    "        # zero the parameter gradients\n",
    "        optimizer.zero_grad()\n",
    "        # forward + backward + optimize\n",
    "        outputs = model_ft(inputs) # predict on the images (forward step)\n",
    "        running_acc +=  accuracy_score(labels, torch.max(outputs.data, 1)[1]) #calculate minibatch accuracy\n",
    "        \n",
    "        loss = criterion(outputs, labels) #calculate our lo     \n",
    "        loss.backward() #take tangent of hyperplane eg. backproagation\n",
    "        optimizer.step() #optimize - go down the tangent\n",
    "\n",
    "        # print statistics\n",
    "        running_loss += loss.item() #add the running loss \n",
    "        print(\"{} out of {} batches\".format(i,50000/16),end = \"\\r\")\n",
    "        if i % 1000 == 999:    # print every 1000 mini-batches\n",
    "            print('[%d, %5d] loss: %.3f' %\n",
    "                  (epoch + 1, i + 1, running_loss / 1000)) #print the mean loss over the lass 2000 bathces\n",
    "            running_loss = 0.0 #set the running loss to 0 again for the next 2000 batches\n",
    "            \n",
    "            print('[%d, %5d] Accuracy: %.3f' %\n",
    "                  (epoch + 1, i + 1, running_acc/ 1000)) #print the mean loss over the lass 2000 bathces\n",
    "            running_loss = 0.0 #set the running loss to 0 again for the next 2000 batches\n",
    "            \n",
    "            running_acc = 0.0\n",
    "print('Finished Training')"
   ]
  },
  {
   "cell_type": "markdown",
   "metadata": {},
   "source": [
    "let us test out the new model on the training and test data "
   ]
  },
  {
   "cell_type": "code",
   "execution_count": 46,
   "metadata": {},
   "outputs": [
    {
     "name": "stderr",
     "output_type": "stream",
     "text": [
      "100%|████████████████████████████████████████████████████████████████████████████| 3125/3125 [1:03:13<00:00,  1.21s/it]\n"
     ]
    },
    {
     "name": "stdout",
     "output_type": "stream",
     "text": [
      "The training acc. of the model is: 0.72342\n"
     ]
    }
   ],
   "source": [
    "true_labs = []\n",
    "predicted_labs = []\n",
    "\n",
    "with torch.no_grad(): #important - means that we no longer update our model, we simply evaluate it\n",
    "    for data in tqdm(trainloader): #for each bathc in the dataloader\n",
    "        images, labels = data \n",
    "        images = m(images)\n",
    "        outputs = model_ft(images) #predict on the images\n",
    "        _, predicted = torch.max(outputs.data, 1) #take the most likely prediction \n",
    "        \n",
    "        true_labs += labels #save true labels\n",
    "        predicted_labs += predicted #save predicted labels\n",
    "\n",
    "print(\"The training acc. of the model is:\", accuracy_score(true_labs, predicted_labs)) #print acc"
   ]
  },
  {
   "cell_type": "code",
   "execution_count": 47,
   "metadata": {},
   "outputs": [
    {
     "name": "stderr",
     "output_type": "stream",
     "text": [
      "100%|████████████████████████████████████████████████████████████████████████████████| 625/625 [13:17<00:00,  1.28s/it]\n"
     ]
    },
    {
     "name": "stdout",
     "output_type": "stream",
     "text": [
      "The test acc. of the model is: 0.708\n"
     ]
    }
   ],
   "source": [
    "true_labs_test = []\n",
    "predicted_labs_test = []\n",
    "\n",
    "with torch.no_grad():\n",
    "    for data in tqdm(testloader):\n",
    "        images, labels = data\n",
    "        images = m(images)\n",
    "        outputs = model_ft(images)\n",
    "        _, predicted = torch.max(outputs.data, 1)\n",
    "        \n",
    "        true_labs_test += labels\n",
    "        predicted_labs_test += predicted\n",
    "        \n",
    "print(\"The test acc. of the model is:\",accuracy_score(true_labs_test, predicted_labs_test))"
   ]
  },
  {
   "cell_type": "code",
   "execution_count": 51,
   "metadata": {},
   "outputs": [],
   "source": [
    "torch.save(model_ft.state_dict(), \"./model\")"
   ]
  },
  {
   "cell_type": "markdown",
   "metadata": {},
   "source": [
    "A lot better than our own model, with only training an added layer for 2 epochs. Imagine if you trained the full model "
   ]
  },
  {
   "cell_type": "markdown",
   "metadata": {},
   "source": [
    "Over and out! Good luck on your work with images as data "
   ]
  },
  {
   "cell_type": "markdown",
   "metadata": {},
   "source": [
    "### Extra: loading and saving models"
   ]
  },
  {
   "cell_type": "code",
   "execution_count": 54,
   "metadata": {},
   "outputs": [
    {
     "data": {
      "text/plain": [
       "ResNet(\n",
       "  (conv1): Conv2d(3, 64, kernel_size=(7, 7), stride=(2, 2), padding=(3, 3), bias=False)\n",
       "  (bn1): BatchNorm2d(64, eps=1e-05, momentum=0.1, affine=True, track_running_stats=True)\n",
       "  (relu): ReLU(inplace=True)\n",
       "  (maxpool): MaxPool2d(kernel_size=3, stride=2, padding=1, dilation=1, ceil_mode=False)\n",
       "  (layer1): Sequential(\n",
       "    (0): BasicBlock(\n",
       "      (conv1): Conv2d(64, 64, kernel_size=(3, 3), stride=(1, 1), padding=(1, 1), bias=False)\n",
       "      (bn1): BatchNorm2d(64, eps=1e-05, momentum=0.1, affine=True, track_running_stats=True)\n",
       "      (relu): ReLU(inplace=True)\n",
       "      (conv2): Conv2d(64, 64, kernel_size=(3, 3), stride=(1, 1), padding=(1, 1), bias=False)\n",
       "      (bn2): BatchNorm2d(64, eps=1e-05, momentum=0.1, affine=True, track_running_stats=True)\n",
       "    )\n",
       "    (1): BasicBlock(\n",
       "      (conv1): Conv2d(64, 64, kernel_size=(3, 3), stride=(1, 1), padding=(1, 1), bias=False)\n",
       "      (bn1): BatchNorm2d(64, eps=1e-05, momentum=0.1, affine=True, track_running_stats=True)\n",
       "      (relu): ReLU(inplace=True)\n",
       "      (conv2): Conv2d(64, 64, kernel_size=(3, 3), stride=(1, 1), padding=(1, 1), bias=False)\n",
       "      (bn2): BatchNorm2d(64, eps=1e-05, momentum=0.1, affine=True, track_running_stats=True)\n",
       "    )\n",
       "  )\n",
       "  (layer2): Sequential(\n",
       "    (0): BasicBlock(\n",
       "      (conv1): Conv2d(64, 128, kernel_size=(3, 3), stride=(2, 2), padding=(1, 1), bias=False)\n",
       "      (bn1): BatchNorm2d(128, eps=1e-05, momentum=0.1, affine=True, track_running_stats=True)\n",
       "      (relu): ReLU(inplace=True)\n",
       "      (conv2): Conv2d(128, 128, kernel_size=(3, 3), stride=(1, 1), padding=(1, 1), bias=False)\n",
       "      (bn2): BatchNorm2d(128, eps=1e-05, momentum=0.1, affine=True, track_running_stats=True)\n",
       "      (downsample): Sequential(\n",
       "        (0): Conv2d(64, 128, kernel_size=(1, 1), stride=(2, 2), bias=False)\n",
       "        (1): BatchNorm2d(128, eps=1e-05, momentum=0.1, affine=True, track_running_stats=True)\n",
       "      )\n",
       "    )\n",
       "    (1): BasicBlock(\n",
       "      (conv1): Conv2d(128, 128, kernel_size=(3, 3), stride=(1, 1), padding=(1, 1), bias=False)\n",
       "      (bn1): BatchNorm2d(128, eps=1e-05, momentum=0.1, affine=True, track_running_stats=True)\n",
       "      (relu): ReLU(inplace=True)\n",
       "      (conv2): Conv2d(128, 128, kernel_size=(3, 3), stride=(1, 1), padding=(1, 1), bias=False)\n",
       "      (bn2): BatchNorm2d(128, eps=1e-05, momentum=0.1, affine=True, track_running_stats=True)\n",
       "    )\n",
       "  )\n",
       "  (layer3): Sequential(\n",
       "    (0): BasicBlock(\n",
       "      (conv1): Conv2d(128, 256, kernel_size=(3, 3), stride=(2, 2), padding=(1, 1), bias=False)\n",
       "      (bn1): BatchNorm2d(256, eps=1e-05, momentum=0.1, affine=True, track_running_stats=True)\n",
       "      (relu): ReLU(inplace=True)\n",
       "      (conv2): Conv2d(256, 256, kernel_size=(3, 3), stride=(1, 1), padding=(1, 1), bias=False)\n",
       "      (bn2): BatchNorm2d(256, eps=1e-05, momentum=0.1, affine=True, track_running_stats=True)\n",
       "      (downsample): Sequential(\n",
       "        (0): Conv2d(128, 256, kernel_size=(1, 1), stride=(2, 2), bias=False)\n",
       "        (1): BatchNorm2d(256, eps=1e-05, momentum=0.1, affine=True, track_running_stats=True)\n",
       "      )\n",
       "    )\n",
       "    (1): BasicBlock(\n",
       "      (conv1): Conv2d(256, 256, kernel_size=(3, 3), stride=(1, 1), padding=(1, 1), bias=False)\n",
       "      (bn1): BatchNorm2d(256, eps=1e-05, momentum=0.1, affine=True, track_running_stats=True)\n",
       "      (relu): ReLU(inplace=True)\n",
       "      (conv2): Conv2d(256, 256, kernel_size=(3, 3), stride=(1, 1), padding=(1, 1), bias=False)\n",
       "      (bn2): BatchNorm2d(256, eps=1e-05, momentum=0.1, affine=True, track_running_stats=True)\n",
       "    )\n",
       "  )\n",
       "  (layer4): Sequential(\n",
       "    (0): BasicBlock(\n",
       "      (conv1): Conv2d(256, 512, kernel_size=(3, 3), stride=(2, 2), padding=(1, 1), bias=False)\n",
       "      (bn1): BatchNorm2d(512, eps=1e-05, momentum=0.1, affine=True, track_running_stats=True)\n",
       "      (relu): ReLU(inplace=True)\n",
       "      (conv2): Conv2d(512, 512, kernel_size=(3, 3), stride=(1, 1), padding=(1, 1), bias=False)\n",
       "      (bn2): BatchNorm2d(512, eps=1e-05, momentum=0.1, affine=True, track_running_stats=True)\n",
       "      (downsample): Sequential(\n",
       "        (0): Conv2d(256, 512, kernel_size=(1, 1), stride=(2, 2), bias=False)\n",
       "        (1): BatchNorm2d(512, eps=1e-05, momentum=0.1, affine=True, track_running_stats=True)\n",
       "      )\n",
       "    )\n",
       "    (1): BasicBlock(\n",
       "      (conv1): Conv2d(512, 512, kernel_size=(3, 3), stride=(1, 1), padding=(1, 1), bias=False)\n",
       "      (bn1): BatchNorm2d(512, eps=1e-05, momentum=0.1, affine=True, track_running_stats=True)\n",
       "      (relu): ReLU(inplace=True)\n",
       "      (conv2): Conv2d(512, 512, kernel_size=(3, 3), stride=(1, 1), padding=(1, 1), bias=False)\n",
       "      (bn2): BatchNorm2d(512, eps=1e-05, momentum=0.1, affine=True, track_running_stats=True)\n",
       "    )\n",
       "  )\n",
       "  (avgpool): AdaptiveAvgPool2d(output_size=(1, 1))\n",
       "  (fc): Linear(in_features=512, out_features=10, bias=True)\n",
       ")"
      ]
     },
     "execution_count": 54,
     "metadata": {},
     "output_type": "execute_result"
    }
   ],
   "source": [
    "model = models.resnet18(pretrained=True) #create a similar model\n",
    "num_ftrs = model.fc.in_features  #still doing that \n",
    "model.fc = nn.Linear(num_ftrs, 10)  #still doing that \n",
    "\n",
    "\n",
    "model.load_state_dict(torch.load(\"./model\")) #fill the model with the trained paramters etc.\n",
    "model.eval()"
   ]
  },
  {
   "cell_type": "code",
   "execution_count": null,
   "metadata": {},
   "outputs": [],
   "source": []
  }
 ],
 "metadata": {
  "kernelspec": {
   "display_name": "Python 3",
   "language": "python",
   "name": "python3"
  },
  "language_info": {
   "codemirror_mode": {
    "name": "ipython",
    "version": 3
   },
   "file_extension": ".py",
   "mimetype": "text/x-python",
   "name": "python",
   "nbconvert_exporter": "python",
   "pygments_lexer": "ipython3",
<<<<<<< HEAD
   "version": "3.9.7"
=======
   "version": "3.8.5"
>>>>>>> 2038ff5d368c8a6484fb0359a919d882c28b73df
  }
 },
 "nbformat": 4,
 "nbformat_minor": 5
}
